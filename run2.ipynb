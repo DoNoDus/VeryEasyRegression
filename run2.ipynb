{
 "cells": [
  {
   "cell_type": "markdown",
   "metadata": {},
   "source": [
    "From ChatGPT"
   ]
  },
  {
   "cell_type": "code",
   "execution_count": 5,
   "metadata": {},
   "outputs": [],
   "source": [
    "import numpy as np\n",
    "import tensorflow as tf\n",
    "from sklearn.model_selection import train_test_split\n",
    "from sklearn.preprocessing import StandardScaler\n",
    "import matplotlib.pyplot as plt\n",
    "import pandas as pd"
   ]
  },
  {
   "cell_type": "code",
   "execution_count": 6,
   "metadata": {},
   "outputs": [],
   "source": [
    "# สร้างข้อมูล\n",
    "np.random.seed(42)\n",
    "X = 2 * np.random.rand(100, 1)\n",
    "y = 4 + 3 * X + np.random.randn(100, 1)"
   ]
  },
  {
   "cell_type": "code",
   "execution_count": 7,
   "metadata": {},
   "outputs": [],
   "source": [
    "# แบ่งข้อมูลเป็นชุดฝึกและชุดทดสอบ\n",
    "X_train, X_test, y_train, y_test = train_test_split(X, y, test_size=0.2, random_state=42)\n",
    "X_train = X_train.reshape(-1,1)\n",
    "X_test = X_test.reshape(-1,1)"
   ]
  },
  {
   "cell_type": "code",
   "execution_count": 8,
   "metadata": {},
   "outputs": [],
   "source": [
    "# ทำ Standardization ของข้อมูล\n",
    "scaler = StandardScaler()\n",
    "X_train_scaled = scaler.fit_transform(X_train)\n",
    "X_test_scaled = scaler.transform(X_test)"
   ]
  },
  {
   "cell_type": "code",
   "execution_count": 9,
   "metadata": {},
   "outputs": [
    {
     "name": "stdout",
     "output_type": "stream",
     "text": [
      "WARNING:tensorflow:From c:\\Users\\chira\\OneDrive\\เดสก์ท็อป\\RegressionModel\\.venv\\Lib\\site-packages\\keras\\src\\backend.py:873: The name tf.get_default_graph is deprecated. Please use tf.compat.v1.get_default_graph instead.\n",
      "\n",
      "WARNING:tensorflow:From c:\\Users\\chira\\OneDrive\\เดสก์ท็อป\\RegressionModel\\.venv\\Lib\\site-packages\\keras\\src\\optimizers\\__init__.py:309: The name tf.train.Optimizer is deprecated. Please use tf.compat.v1.train.Optimizer instead.\n",
      "\n",
      "Epoch 1/50\n",
      "WARNING:tensorflow:From c:\\Users\\chira\\OneDrive\\เดสก์ท็อป\\RegressionModel\\.venv\\Lib\\site-packages\\keras\\src\\utils\\tf_utils.py:492: The name tf.ragged.RaggedTensorValue is deprecated. Please use tf.compat.v1.ragged.RaggedTensorValue instead.\n",
      "\n",
      "3/3 [==============================] - 1s 111ms/step - loss: 46.6867 - val_loss: 49.6014\n",
      "Epoch 2/50\n",
      "3/3 [==============================] - 0s 28ms/step - loss: 46.6446 - val_loss: 49.5579\n",
      "Epoch 3/50\n",
      "3/3 [==============================] - 0s 23ms/step - loss: 46.6031 - val_loss: 49.5146\n",
      "Epoch 4/50\n",
      "3/3 [==============================] - 0s 23ms/step - loss: 46.5621 - val_loss: 49.4712\n",
      "Epoch 5/50\n",
      "3/3 [==============================] - 0s 23ms/step - loss: 46.5220 - val_loss: 49.4279\n",
      "Epoch 6/50\n",
      "3/3 [==============================] - 0s 23ms/step - loss: 46.4795 - val_loss: 49.3850\n",
      "Epoch 7/50\n",
      "3/3 [==============================] - 0s 24ms/step - loss: 46.4390 - val_loss: 49.3421\n",
      "Epoch 8/50\n",
      "3/3 [==============================] - 0s 25ms/step - loss: 46.3976 - val_loss: 49.2995\n",
      "Epoch 9/50\n",
      "3/3 [==============================] - 0s 21ms/step - loss: 46.3566 - val_loss: 49.2572\n",
      "Epoch 10/50\n",
      "3/3 [==============================] - 0s 22ms/step - loss: 46.3160 - val_loss: 49.2149\n",
      "Epoch 11/50\n",
      "3/3 [==============================] - 0s 21ms/step - loss: 46.2752 - val_loss: 49.1726\n",
      "Epoch 12/50\n",
      "3/3 [==============================] - 0s 23ms/step - loss: 46.2346 - val_loss: 49.1299\n",
      "Epoch 13/50\n",
      "3/3 [==============================] - 0s 22ms/step - loss: 46.1935 - val_loss: 49.0872\n",
      "Epoch 14/50\n",
      "3/3 [==============================] - 0s 21ms/step - loss: 46.1540 - val_loss: 49.0444\n",
      "Epoch 15/50\n",
      "3/3 [==============================] - 0s 22ms/step - loss: 46.1123 - val_loss: 49.0022\n",
      "Epoch 16/50\n",
      "3/3 [==============================] - 0s 22ms/step - loss: 46.0717 - val_loss: 48.9602\n",
      "Epoch 17/50\n",
      "3/3 [==============================] - 0s 24ms/step - loss: 46.0313 - val_loss: 48.9185\n",
      "Epoch 18/50\n",
      "3/3 [==============================] - 0s 29ms/step - loss: 45.9908 - val_loss: 48.8766\n",
      "Epoch 19/50\n",
      "3/3 [==============================] - 0s 24ms/step - loss: 45.9507 - val_loss: 48.8346\n",
      "Epoch 20/50\n",
      "3/3 [==============================] - 0s 22ms/step - loss: 45.9099 - val_loss: 48.7927\n",
      "Epoch 21/50\n",
      "3/3 [==============================] - 0s 22ms/step - loss: 45.8697 - val_loss: 48.7507\n",
      "Epoch 22/50\n",
      "3/3 [==============================] - 0s 22ms/step - loss: 45.8299 - val_loss: 48.7086\n",
      "Epoch 23/50\n",
      "3/3 [==============================] - 0s 24ms/step - loss: 45.7894 - val_loss: 48.6668\n",
      "Epoch 24/50\n",
      "3/3 [==============================] - 0s 23ms/step - loss: 45.7491 - val_loss: 48.6254\n",
      "Epoch 25/50\n",
      "3/3 [==============================] - 0s 25ms/step - loss: 45.7092 - val_loss: 48.5840\n",
      "Epoch 26/50\n",
      "3/3 [==============================] - 0s 22ms/step - loss: 45.6691 - val_loss: 48.5426\n",
      "Epoch 27/50\n",
      "3/3 [==============================] - 0s 22ms/step - loss: 45.6295 - val_loss: 48.5010\n",
      "Epoch 28/50\n",
      "3/3 [==============================] - 0s 23ms/step - loss: 45.5891 - val_loss: 48.4597\n",
      "Epoch 29/50\n",
      "3/3 [==============================] - 0s 30ms/step - loss: 45.5496 - val_loss: 48.4181\n",
      "Epoch 30/50\n",
      "3/3 [==============================] - 0s 25ms/step - loss: 45.5090 - val_loss: 48.3767\n",
      "Epoch 31/50\n",
      "3/3 [==============================] - 0s 23ms/step - loss: 45.4690 - val_loss: 48.3353\n",
      "Epoch 32/50\n",
      "3/3 [==============================] - 0s 23ms/step - loss: 45.4294 - val_loss: 48.2936\n",
      "Epoch 33/50\n",
      "3/3 [==============================] - 0s 26ms/step - loss: 45.3893 - val_loss: 48.2520\n",
      "Epoch 34/50\n",
      "3/3 [==============================] - 0s 24ms/step - loss: 45.3493 - val_loss: 48.2103\n",
      "Epoch 35/50\n",
      "3/3 [==============================] - 0s 22ms/step - loss: 45.3090 - val_loss: 48.1687\n",
      "Epoch 36/50\n",
      "3/3 [==============================] - 0s 22ms/step - loss: 45.2687 - val_loss: 48.1268\n",
      "Epoch 37/50\n",
      "3/3 [==============================] - 0s 22ms/step - loss: 45.2294 - val_loss: 48.0847\n",
      "Epoch 38/50\n",
      "3/3 [==============================] - 0s 24ms/step - loss: 45.1885 - val_loss: 48.0429\n",
      "Epoch 39/50\n",
      "3/3 [==============================] - 0s 20ms/step - loss: 45.1483 - val_loss: 48.0011\n",
      "Epoch 40/50\n",
      "3/3 [==============================] - 0s 20ms/step - loss: 45.1087 - val_loss: 47.9592\n",
      "Epoch 41/50\n",
      "3/3 [==============================] - 0s 42ms/step - loss: 45.0682 - val_loss: 47.9177\n",
      "Epoch 42/50\n",
      "3/3 [==============================] - 0s 34ms/step - loss: 45.0293 - val_loss: 47.8759\n",
      "Epoch 43/50\n",
      "3/3 [==============================] - 0s 35ms/step - loss: 44.9883 - val_loss: 47.8345\n",
      "Epoch 44/50\n",
      "3/3 [==============================] - 0s 31ms/step - loss: 44.9487 - val_loss: 47.7928\n",
      "Epoch 45/50\n",
      "3/3 [==============================] - 0s 18ms/step - loss: 44.9090 - val_loss: 47.7513\n",
      "Epoch 46/50\n",
      "3/3 [==============================] - 0s 27ms/step - loss: 44.8692 - val_loss: 47.7100\n",
      "Epoch 47/50\n",
      "3/3 [==============================] - 0s 21ms/step - loss: 44.8297 - val_loss: 47.6687\n",
      "Epoch 48/50\n",
      "3/3 [==============================] - 0s 19ms/step - loss: 44.7899 - val_loss: 47.6277\n",
      "Epoch 49/50\n",
      "3/3 [==============================] - 0s 19ms/step - loss: 44.7509 - val_loss: 47.5867\n",
      "Epoch 50/50\n",
      "3/3 [==============================] - 0s 24ms/step - loss: 44.7108 - val_loss: 47.5459\n",
      "1/1 [==============================] - 0s 79ms/step\n"
     ]
    },
    {
     "data": {
      "image/png": "[encoded data removed]",
      "text/plain": [
       "<Figure size 640x480 with 1 Axes>"
      ]
     },
     "metadata": {},
     "output_type": "display_data"
    }
   ],
   "source": [
    "# สร้างโมเดล Neural Network\n",
    "model = tf.keras.models.Sequential([\n",
    "    tf.keras.layers.Dense(1, activation='linear', input_shape=(1,))\n",
    "])\n",
    "\n",
    "# คอมไพล์โมเดล\n",
    "model.compile(optimizer='adam', loss='mean_squared_error')\n",
    "\n",
    "# ฝึกโมเดล\n",
    "history = model.fit(X_train_scaled, y_train, epochs=50, validation_data=(X_test_scaled, y_test))\n",
    "\n",
    "# ทำนายผลลัพธ์ทดสอบ\n",
    "y_pred_scaled = model.predict(X_test_scaled)\n",
    "\n",
    "# กลับมาที่ Scale เดิม\n",
    "y_pred = scaler.inverse_transform(y_pred_scaled)\n",
    "\n",
    "# พล็อตกราฟ\n",
    "plt.scatter(X_test, y_test, color='black')\n",
    "plt.plot(X_test, y_pred, color='blue', linewidth=3)\n",
    "plt.xlabel('X')\n",
    "plt.ylabel('y')\n",
    "plt.title('Linear Regression with TensorFlow')\n",
    "plt.show()"
   ]
  },
  {
   "cell_type": "code",
   "execution_count": 10,
   "metadata": {},
   "outputs": [],
   "source": [
    "# predDf = pd.read_csv('pred.csv')\n",
    "\n",
    "# new_data = predDf['Open'].values\n",
    "# new_data = new_data.reshape(-1,1)"
   ]
  },
  {
   "cell_type": "code",
   "execution_count": 11,
   "metadata": {},
   "outputs": [
    {
     "name": "stdout",
     "output_type": "stream",
     "text": [
      "1/1 [==============================] - 0s 34ms/step\n",
      "Predictions: [[0.10160782]]\n"
     ]
    }
   ],
   "source": [
    "# Assuming you have new data for prediction in the variable 'new_data'\n",
    "new_data_scaled = scaler.transform(new_data)\n",
    "\n",
    "# Make predictions\n",
    "predictions_scaled = model.predict(new_data_scaled)\n",
    "\n",
    "# Inverse transform to get predictions in the original scale\n",
    "predictions = scaler.inverse_transform(predictions_scaled)\n",
    "\n",
    "# Display the predictions\n",
    "print(\"Predictions:\", predictions)\n"
   ]
  }
 ],
 "metadata": {
  "kernelspec": {
   "display_name": ".venv",
   "language": "python",
   "name": "python3"
  },
  "language_info": {
   "codemirror_mode": {
    "name": "ipython",
    "version": 3
   },
   "file_extension": ".py",
   "mimetype": "text/x-python",
   "name": "python",
   "nbconvert_exporter": "python",
   "pygments_lexer": "ipython3",
   "version": "3.11.3"
  }
 },
 "nbformat": 4,
 "nbformat_minor": 2
}
